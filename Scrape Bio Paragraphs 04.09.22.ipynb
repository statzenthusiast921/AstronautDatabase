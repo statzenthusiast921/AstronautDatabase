{
 "cells": [
  {
   "cell_type": "code",
   "execution_count": 88,
   "metadata": {
    "scrolled": false
   },
   "outputs": [],
   "source": [
    "from bs4 import BeautifulSoup\n",
    "import pandas as pd\n",
    "from selenium import webdriver\n",
    "from selenium.webdriver.chrome.options import Options\n",
    "from webdriver_manager.chrome import ChromeDriverManager\n",
    "import time\n",
    "\n",
    "\n",
    "data = []\n",
    "url = 'https://www.supercluster.com/astronauts?ascending=false&limit=350&list=true&sort=launch%20order'\n",
    "\n",
    "options = Options()\n",
    "options.add_argument(\"--headless\")\n",
    "driver = webdriver.Chrome(ChromeDriverManager().install(),options=options)\n",
    "driver.maximize_window()\n",
    "driver.get(url)\n",
    "time.sleep(5)\n",
    "Name=[]\n",
    "bio=[]\n",
    "soup = BeautifulSoup(driver.page_source, 'lxml')\n",
    "for name in soup.select('.bau.astronaut_cell__title.bold.mr05'):\n",
    "    name =name.text\n",
    "    Name.append(name)\n",
    "    #print(name)\n",
    "    urls=soup.select('a[class=\"astronaut_cell x\"]')\n",
    "    for url in urls:\n",
    "        abs_url='https://www.supercluster.com'+url.get('href')\n",
    "        print(abs_url)\n",
    "        options = Options()\n",
    "        options.add_argument(\"--headless\")\n",
    "        driver = webdriver.Chrome(ChromeDriverManager().install(),options=options)\n",
    "        driver.maximize_window()\n",
    "        driver.get(abs_url)\n",
    "        #time.sleep(1)\n",
    "\n",
    "        soup = BeautifulSoup(driver.page_source, 'html.parser')\n",
    "        driver.close()\n",
    "\n",
    "        for astro in soup.select('div.px1.py2.container--xl.mxa')[0:8]:\n",
    "            astro=astro.text\n",
    "            bio.append(astro)\n",
    "\n",
    "\n",
    "df = pd.DataFrame(data=list(zip(Name,bio)),columns=['name','bio'])\n",
    "print(df)"
   ]
  },
  {
   "cell_type": "code",
   "execution_count": 84,
   "metadata": {},
   "outputs": [
    {
     "data": {
      "text/plain": [
       "'WIKIPEDIA EXCERPTBernard Anthony Harris Jr. is a former NASA astronaut. On February 9, 1995, Harris became the first African American to perform an extra-vehicular activity, during the second of his two Space Shuttle flights.source'"
      ]
     },
     "execution_count": 84,
     "metadata": {},
     "output_type": "execute_result"
    }
   ],
   "source": [
    "df['bio'][300]"
   ]
  },
  {
   "cell_type": "code",
   "execution_count": 87,
   "metadata": {},
   "outputs": [],
   "source": [
    "# import os \n",
    "# os.getcwd()\n"
   ]
  },
  {
   "cell_type": "code",
   "execution_count": 86,
   "metadata": {},
   "outputs": [],
   "source": [
    "df.to_csv('name_bio2.csv', index=False)\n"
   ]
  },
  {
   "cell_type": "code",
   "execution_count": null,
   "metadata": {},
   "outputs": [],
   "source": []
  }
 ],
 "metadata": {
  "kernelspec": {
   "display_name": "Python 3",
   "language": "python",
   "name": "python3"
  },
  "language_info": {
   "codemirror_mode": {
    "name": "ipython",
    "version": 3
   },
   "file_extension": ".py",
   "mimetype": "text/x-python",
   "name": "python",
   "nbconvert_exporter": "python",
   "pygments_lexer": "ipython3",
   "version": "3.8.3"
  }
 },
 "nbformat": 4,
 "nbformat_minor": 2
}
