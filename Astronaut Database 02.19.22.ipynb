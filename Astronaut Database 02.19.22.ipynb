{
 "cells": [
  {
   "cell_type": "code",
   "execution_count": 29,
   "metadata": {
    "scrolled": false
   },
   "outputs": [
    {
     "name": "stdout",
     "output_type": "stream",
     "text": [
      "(952, 13)\n",
      "(490, 9)\n",
      "(1498, 10)\n",
      "(952, 13)\n",
      "(1498, 22)\n"
     ]
    }
   ],
   "source": [
    "#Import libraries\n",
    "import json\n",
    "import requests\n",
    "from IPython.display import JSON\n",
    "import pandas as pd \n",
    "\n",
    "#Download the astronaut database from SuperCluster\n",
    "astronaut_db_url = 'https://supercluster-iadb.s3.us-east-2.amazonaws.com/adb.json'\n",
    "astronauts_db = requests.get(astronaut_db_url).json()\n",
    "\n",
    "#Make dataframes\n",
    "df1 = pd.json_normalize(astronauts_db['astronauts'])\n",
    "df2 = pd.json_normalize(astronauts_db['missions'])\n",
    "\n",
    "#Grab columns\n",
    "df_astro = df1[['_id','astroNumber','awards','name','gender','inSpace','overallNumber','spacewalkCount','species','speciesGroup',\n",
    "                'totalMinutesInSpace','totalSecondsSpacewalking','lastLaunchDate.utc']]\n",
    "\n",
    "df_miss = df2[['_id','astronauts','keywords','name',\n",
    "               'seriesName','shortDescription','vagueLaunchDate',\n",
    "               'landDate.utc','launchDate.utc']]\n",
    "\n",
    "#Check shapes of dfs\n",
    "print(df_astro.shape)\n",
    "print(df_miss.shape)\n",
    "\n",
    "#Change column names\n",
    "df_astro = df_astro.rename(columns={'_id': 'astronaut_id'})\n",
    "\n",
    "#Get row per award\n",
    "df_awards = df_astro[['astronaut_id', 'awards']].copy()\n",
    "df_awards['awards'] = df_awards['awards'].apply(lambda awards: [award['title'] for award in awards])\n",
    "df_awards.head(2)\n",
    "\n",
    "#Join awards column back on astronaut df\n",
    "df_astro = pd.merge(df_astro,df_awards,how='left',on=['astronaut_id'])\n",
    "\n",
    "#Clean up astronaut df\n",
    "del df_astro['awards_x']\n",
    "df_astro = df_astro.rename(columns={'awards_y': 'awards'})\n",
    "\n",
    "\n",
    "#Change column names\n",
    "df_miss = df_miss.rename(columns={'_id': 'mission_id'})\n",
    "\n",
    "#Expand df to have multiple rows (many astronauts per mission)\n",
    "df_test = df_miss.explode(['astronauts']).reset_index(drop=True)\n",
    "\n",
    "\n",
    "#Pull out list of astronauts from JSON format\n",
    "astronauts = pd.json_normalize(df_test['astronauts'])\n",
    "\n",
    "\n",
    "#Add list of astronauts back into mission df\n",
    "df_miss = pd.concat([df_test, astronauts], axis=1)\n",
    "\n",
    "#Change column names\n",
    "df_miss = df_miss.rename(columns={'_id': 'astronaut_id'})\n",
    "del df_miss['astronauts']\n",
    "\n",
    "#Cleaning time/day variables\n",
    "df_miss['launch_time'] = pd.to_datetime(df_miss['launchDate.utc']).dt.time\n",
    "df_miss['land_time'] = pd.to_datetime(df_miss['landDate.utc']).dt.time\n",
    "df_miss['launch_date'] = df_miss['vagueLaunchDate']\n",
    "df_miss['land_date'] = pd.to_datetime(df_miss['landDate.utc']).dt.date\n",
    "\n",
    "del df_miss['vagueLaunchDate']\n",
    "del df_miss['landDate.utc']\n",
    "del df_miss['launchDate.utc']\n",
    "\n",
    "#Join astronaut database with mission database\n",
    "df_full = pd.merge(df_miss,df_astro,how='left',on=['astronaut_id'])\n",
    "\n",
    "print(df_miss.shape)\n",
    "print(df_astro.shape)\n",
    "print(df_full.shape)"
   ]
  },
  {
   "cell_type": "code",
   "execution_count": 25,
   "metadata": {},
   "outputs": [],
   "source": [
    "#full_df.to_csv(r'/Users/jonzimmerman/Desktop/Data Projects/Astronaut Database/astro_db.csv', index = False)\n"
   ]
  },
  {
   "cell_type": "code",
   "execution_count": 31,
   "metadata": {},
   "outputs": [
    {
     "data": {
      "text/html": [
       "<div>\n",
       "<style scoped>\n",
       "    .dataframe tbody tr th:only-of-type {\n",
       "        vertical-align: middle;\n",
       "    }\n",
       "\n",
       "    .dataframe tbody tr th {\n",
       "        vertical-align: top;\n",
       "    }\n",
       "\n",
       "    .dataframe thead th {\n",
       "        text-align: right;\n",
       "    }\n",
       "</style>\n",
       "<table border=\"1\" class=\"dataframe\">\n",
       "  <thead>\n",
       "    <tr style=\"text-align: right;\">\n",
       "      <th></th>\n",
       "      <th>mission_id</th>\n",
       "      <th>keywords</th>\n",
       "      <th>name_x</th>\n",
       "      <th>seriesName</th>\n",
       "      <th>shortDescription</th>\n",
       "      <th>astronaut_id</th>\n",
       "      <th>launch_time</th>\n",
       "      <th>land_time</th>\n",
       "      <th>launch_date</th>\n",
       "      <th>land_date</th>\n",
       "      <th>...</th>\n",
       "      <th>gender</th>\n",
       "      <th>inSpace</th>\n",
       "      <th>overallNumber</th>\n",
       "      <th>spacewalkCount</th>\n",
       "      <th>species</th>\n",
       "      <th>speciesGroup</th>\n",
       "      <th>totalMinutesInSpace</th>\n",
       "      <th>totalSecondsSpacewalking</th>\n",
       "      <th>lastLaunchDate.utc</th>\n",
       "      <th>awards</th>\n",
       "    </tr>\n",
       "  </thead>\n",
       "  <tbody>\n",
       "    <tr>\n",
       "      <th>0</th>\n",
       "      <td>00d2e869-4c3d-4be3-b2e9-c3a935768abb</td>\n",
       "      <td>SpaceX, Crewed</td>\n",
       "      <td>SpaceX Crew-2</td>\n",
       "      <td>SpaceX</td>\n",
       "      <td>Crew-2 is SpaceX's second operational flight o...</td>\n",
       "      <td>NSZm43AoLYq0PEOXpgALIz</td>\n",
       "      <td>09:49:00</td>\n",
       "      <td>03:33:00</td>\n",
       "      <td>2021-04-23</td>\n",
       "      <td>2021-11-09</td>\n",
       "      <td>...</td>\n",
       "      <td>male</td>\n",
       "      <td>False</td>\n",
       "      <td>746.0</td>\n",
       "      <td>9.0</td>\n",
       "      <td>Human</td>\n",
       "      <td>human</td>\n",
       "      <td>559768.0</td>\n",
       "      <td>213960.0</td>\n",
       "      <td>2021-04-23T00:00:00.000Z</td>\n",
       "      <td>[ISS Visitor, Crossed Kármán Line, Elite Space...</td>\n",
       "    </tr>\n",
       "  </tbody>\n",
       "</table>\n",
       "<p>1 rows × 22 columns</p>\n",
       "</div>"
      ],
      "text/plain": [
       "                             mission_id        keywords         name_x  \\\n",
       "0  00d2e869-4c3d-4be3-b2e9-c3a935768abb  SpaceX, Crewed  SpaceX Crew-2   \n",
       "\n",
       "  seriesName                                   shortDescription  \\\n",
       "0     SpaceX  Crew-2 is SpaceX's second operational flight o...   \n",
       "\n",
       "             astronaut_id launch_time land_time launch_date   land_date  ...  \\\n",
       "0  NSZm43AoLYq0PEOXpgALIz    09:49:00  03:33:00  2021-04-23  2021-11-09  ...   \n",
       "\n",
       "  gender inSpace overallNumber spacewalkCount  species  speciesGroup  \\\n",
       "0   male   False         746.0            9.0    Human         human   \n",
       "\n",
       "  totalMinutesInSpace totalSecondsSpacewalking        lastLaunchDate.utc  \\\n",
       "0            559768.0                 213960.0  2021-04-23T00:00:00.000Z   \n",
       "\n",
       "                                              awards  \n",
       "0  [ISS Visitor, Crossed Kármán Line, Elite Space...  \n",
       "\n",
       "[1 rows x 22 columns]"
      ]
     },
     "execution_count": 31,
     "metadata": {},
     "output_type": "execute_result"
    }
   ],
   "source": [
    "df_full.head(1)"
   ]
  },
  {
   "cell_type": "code",
   "execution_count": 42,
   "metadata": {},
   "outputs": [
    {
     "data": {
      "text/plain": [
       "6"
      ]
     },
     "execution_count": 42,
     "metadata": {},
     "output_type": "execute_result"
    }
   ],
   "source": [
    "len(df_full['awards'][0])"
   ]
  },
  {
   "cell_type": "code",
   "execution_count": 44,
   "metadata": {},
   "outputs": [
    {
     "data": {
      "text/plain": [
       "(18, 22)"
      ]
     },
     "execution_count": 44,
     "metadata": {},
     "output_type": "execute_result"
    }
   ],
   "source": [
    "SpaceX = df_full[df_full['seriesName']==\"SpaceX\"]\n",
    "SpaceX.shape"
   ]
  },
  {
   "cell_type": "code",
   "execution_count": 49,
   "metadata": {},
   "outputs": [
    {
     "data": {
      "text/plain": [
       "array(['human', nan], dtype=object)"
      ]
     },
     "execution_count": 49,
     "metadata": {},
     "output_type": "execute_result"
    }
   ],
   "source": [
    "df_full['speciesGroup'].unique()"
   ]
  },
  {
   "cell_type": "code",
   "execution_count": null,
   "metadata": {},
   "outputs": [],
   "source": []
  }
 ],
 "metadata": {
  "kernelspec": {
   "display_name": "Python 3",
   "language": "python",
   "name": "python3"
  },
  "language_info": {
   "codemirror_mode": {
    "name": "ipython",
    "version": 3
   },
   "file_extension": ".py",
   "mimetype": "text/x-python",
   "name": "python",
   "nbconvert_exporter": "python",
   "pygments_lexer": "ipython3",
   "version": "3.8.3"
  }
 },
 "nbformat": 4,
 "nbformat_minor": 2
}
